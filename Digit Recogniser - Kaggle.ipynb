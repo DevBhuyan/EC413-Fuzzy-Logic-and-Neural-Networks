{
 "cells": [
  {
   "cell_type": "code",
   "execution_count": 8,
   "metadata": {},
   "outputs": [],
   "source": [
    "from tensorflow.keras.layers import Flatten, Dense, Conv2D, MaxPooling2D, Dropout\n",
    "from tensorflow.keras import Sequential\n",
    "from tensorflow.keras.preprocessing.image import ImageDataGenerator\n",
    "from tensorflow.keras.optimizers import RMSprop\n",
    "import numpy as np"
   ]
  },
  {
   "cell_type": "code",
   "execution_count": 2,
   "metadata": {},
   "outputs": [],
   "source": [
    "train_file = 'E:/Curious Dev B/Kaggle/train.csv'\n",
    "test_file = 'E:/Curious Dev B/Kaggle/test.csv'"
   ]
  },
  {
   "cell_type": "code",
   "execution_count": 3,
   "metadata": {},
   "outputs": [],
   "source": [
    "#import data from files\n",
    "def get_data_with_label(file):\n",
    "    fh = open(file)\n",
    "    ct = 0\n",
    "    labels = []\n",
    "    images = []\n",
    "    for line in fh:\n",
    "        ct += 1\n",
    "        if ct == 1:\n",
    "            continue\n",
    "        pix_str = line.split(',')\n",
    "        labels.append(float(pix_str[0]))\n",
    "        pix_np = np.asarray(pix_str[1:], dtype = float)\n",
    "        pix_np_split = np.array_split(pix_np, 28)\n",
    "        pix_np_split_asarray = np.asarray(pix_np_split, dtype = 'float')\n",
    "        images.append(pix_np_split_asarray)\n",
    "    return images, labels\n",
    "\n",
    "def get_data(file):\n",
    "    fh = open(file)\n",
    "    ct = 0\n",
    "    images = []\n",
    "    for line in fh:\n",
    "        ct += 1\n",
    "        if ct == 1:\n",
    "            continue\n",
    "        pix_str = line.split(',')\n",
    "        pix_np = np.asarray(pix_str, dtype = float)\n",
    "        pix_np_split = np.array_split(pix_np, 28)\n",
    "        pix_np_split_asarray = np.asarray(pix_np_split, dtype = 'float')\n",
    "        images.append(pix_np_split_asarray)\n",
    "    return images"
   ]
  },
  {
   "cell_type": "code",
   "execution_count": 4,
   "metadata": {},
   "outputs": [],
   "source": [
    "tr_img_list, tr_lb_list = get_data_with_label(train_file)\n",
    "t_img_list = get_data(test_file)\n",
    "\n",
    "training_images = np.asarray(tr_img_list)\n",
    "training_labels = np.asarray(tr_lb_list)\n",
    "testing_images = np.asarray(t_img_list)"
   ]
  },
  {
   "cell_type": "code",
   "execution_count": 5,
   "metadata": {},
   "outputs": [
    {
     "name": "stdout",
     "output_type": "stream",
     "text": [
      "(42000, 28, 28)\n",
      "(42000,)\n",
      "(28000, 28, 28)\n"
     ]
    }
   ],
   "source": [
    "print(training_images.shape)\n",
    "print(training_labels.shape)\n",
    "print(testing_images.shape)"
   ]
  },
  {
   "cell_type": "code",
   "execution_count": 6,
   "metadata": {},
   "outputs": [],
   "source": [
    "training_labels = np.asarray(training_labels, dtype = 'float')"
   ]
  },
  {
   "cell_type": "code",
   "execution_count": 7,
   "metadata": {},
   "outputs": [
    {
     "name": "stdout",
     "output_type": "stream",
     "text": [
      "(42000, 28, 28, 1)\n",
      "(28000, 28, 28, 1)\n"
     ]
    }
   ],
   "source": [
    "#increase rank of np.array\n",
    "training_images = np.expand_dims(training_images, axis = 3)\n",
    "testing_images = np.expand_dims(testing_images, axis = 3)\n",
    "\n",
    "print(training_images.shape)\n",
    "print(testing_images.shape)"
   ]
  },
  {
   "cell_type": "code",
   "execution_count": 13,
   "metadata": {},
   "outputs": [],
   "source": [
    "#Image Generator\n",
    "train_datagen = ImageDataGenerator(\n",
    "                rescale = 1/255)\n",
    "\n",
    "train_datagen.fit(training_images)\n",
    "\n",
    "train_generator = train_datagen.flow(training_images,\n",
    "                                     training_labels,\n",
    "                                     batch_size = 20,\n",
    "                                     shuffle = True)"
   ]
  },
  {
   "cell_type": "code",
   "execution_count": 17,
   "metadata": {},
   "outputs": [
    {
     "name": "stdout",
     "output_type": "stream",
     "text": [
      "Model: \"sequential_1\"\n",
      "_________________________________________________________________\n",
      "Layer (type)                 Output Shape              Param #   \n",
      "=================================================================\n",
      "conv2d_2 (Conv2D)            (None, 26, 26, 16)        160       \n",
      "_________________________________________________________________\n",
      "max_pooling2d_2 (MaxPooling2 (None, 13, 13, 16)        0         \n",
      "_________________________________________________________________\n",
      "conv2d_3 (Conv2D)            (None, 11, 11, 32)        4640      \n",
      "_________________________________________________________________\n",
      "max_pooling2d_3 (MaxPooling2 (None, 5, 5, 32)          0         \n",
      "_________________________________________________________________\n",
      "flatten_1 (Flatten)          (None, 800)               0         \n",
      "_________________________________________________________________\n",
      "dense_3 (Dense)              (None, 512)               410112    \n",
      "_________________________________________________________________\n",
      "dense_4 (Dense)              (None, 10)                5130      \n",
      "=================================================================\n",
      "Total params: 420,042\n",
      "Trainable params: 420,042\n",
      "Non-trainable params: 0\n",
      "_________________________________________________________________\n"
     ]
    }
   ],
   "source": [
    "model = Sequential([\n",
    "    Conv2D(16, (3, 3), activation = 'relu', input_shape = (28, 28, 1)),\n",
    "    MaxPooling2D(2, 2),\n",
    "    Conv2D(32, (3, 3), activation = 'relu'),\n",
    "    MaxPooling2D(2, 2),\n",
    "    Flatten(),\n",
    "    Dense(512, activation = 'relu'),\n",
    "    Dense(10, activation = 'softmax')\n",
    "])\n",
    "\n",
    "model.compile(optimizer = RMSprop(lr=0.0001), \n",
    "              loss = 'sparse_categorical_crossentropy', \n",
    "              metrics = ['accuracy'])\n",
    "\n",
    "model.summary()"
   ]
  },
  {
   "cell_type": "code",
   "execution_count": 26,
   "metadata": {},
   "outputs": [
    {
     "name": "stdout",
     "output_type": "stream",
     "text": [
      "WARNING:tensorflow:sample_weight modes were coerced from\n",
      "  ...\n",
      "    to  \n",
      "  ['...']\n",
      "Train for 2100 steps\n",
      "Epoch 1/15\n",
      "2100/2100 [==============================] - 155s 74ms/step - loss: 0.0323 - accuracy: 0.9904\n",
      "Epoch 2/15\n",
      "2100/2100 [==============================] - 172s 82ms/step - loss: 0.0300 - accuracy: 0.9907\n",
      "Epoch 3/15\n",
      "2100/2100 [==============================] - 180s 86ms/step - loss: 0.0278 - accuracy: 0.9920\n",
      "Epoch 4/15\n",
      "2100/2100 [==============================] - 183s 87ms/step - loss: 0.0257 - accuracy: 0.9927\n",
      "Epoch 5/15\n",
      "2100/2100 [==============================] - 140s 67ms/step - loss: 0.0246 - accuracy: 0.9925\n",
      "Epoch 6/15\n",
      "2100/2100 [==============================] - 143s 68ms/step - loss: 0.0228 - accuracy: 0.9935\n",
      "Epoch 7/15\n",
      "2100/2100 [==============================] - 140s 67ms/step - loss: 0.0221 - accuracy: 0.9938\n",
      "Epoch 8/15\n",
      "2100/2100 [==============================] - 141s 67ms/step - loss: 0.0206 - accuracy: 0.9943\n",
      "Epoch 9/15\n",
      "2100/2100 [==============================] - 132s 63ms/step - loss: 0.0203 - accuracy: 0.9948\n",
      "Epoch 10/15\n",
      "2100/2100 [==============================] - 134s 64ms/step - loss: 0.0191 - accuracy: 0.9948\n",
      "Epoch 11/15\n",
      "2100/2100 [==============================] - 131s 62ms/step - loss: 0.0180 - accuracy: 0.9950s - loss: 0.0180 - accuracy\n",
      "Epoch 12/15\n",
      "2100/2100 [==============================] - 131s 62ms/step - loss: 0.0169 - accuracy: 0.9953\n",
      "Epoch 13/15\n",
      "2100/2100 [==============================] - 130s 62ms/step - loss: 0.0161 - accuracy: 0.9958\n",
      "Epoch 14/15\n",
      "2100/2100 [==============================] - 133s 63ms/step - loss: 0.0155 - accuracy: 0.9961\n",
      "Epoch 15/15\n",
      "2100/2100 [==============================] - 132s 63ms/step - loss: 0.0144 - accuracy: 0.9962s - loss: 0.0144 - accura\n"
     ]
    }
   ],
   "source": [
    "history = model.fit(train_generator,\n",
    "                   epochs = 15)"
   ]
  },
  {
   "cell_type": "code",
   "execution_count": 27,
   "metadata": {},
   "outputs": [
    {
     "data": {
      "image/png": "[encoded data removed]",
      "text/plain": [
       "<Figure size 432x288 with 1 Axes>"
      ]
     },
     "metadata": {
      "needs_background": "light"
     },
     "output_type": "display_data"
    },
    {
     "data": {
      "text/plain": [
       "<Figure size 432x288 with 0 Axes>"
      ]
     },
     "metadata": {},
     "output_type": "display_data"
    }
   ],
   "source": [
    "%matplotlib inline\n",
    "import matplotlib.pyplot as plt\n",
    "acc = history.history['accuracy']\n",
    "loss = history.history['loss']\n",
    "\n",
    "epochs = range(len(acc))\n",
    "\n",
    "plt.plot(epochs, acc, 'r', label='Training accuracy')\n",
    "plt.title('Training accuracy')\n",
    "plt.legend(loc=0)\n",
    "plt.figure()\n",
    "\n",
    "\n",
    "plt.show()"
   ]
  },
  {
   "cell_type": "code",
   "execution_count": 28,
   "metadata": {},
   "outputs": [],
   "source": [
    "result = model.predict(testing_images)\n",
    "test_labels = []\n",
    "for i in result:\n",
    "    for j in range(len(i)):\n",
    "        if i[j] == max(i):\n",
    "            test_labels.append(j)"
   ]
  },
  {
   "cell_type": "code",
   "execution_count": 30,
   "metadata": {},
   "outputs": [],
   "source": [
    "fh = open('E:/Curious Dev B/Kaggle/results - Digit Recogniser(24).csv', 'w')\n",
    "ct = 0\n",
    "for i in test_labels:\n",
    "    ct += 1\n",
    "    fstr = str(ct)+','+str(i)+','+'\\n'\n",
    "    fh.write(fstr)"
   ]
  },
  {
   "cell_type": "code",
   "execution_count": null,
   "metadata": {},
   "outputs": [],
   "source": [
    "from IPython.display import display\n",
    "from PIL import Image\n",
    "testing_images.shape = (28000, 28, 28)\n",
    "for i in testing_images[27900:]:\n",
    "    img = Image.fromarray(np.uint8((i)*255))\n",
    "    display(img)"
   ]
  }
 ],
 "metadata": {
  "kernelspec": {
   "display_name": "Python 3 (ipykernel)",
   "language": "python",
   "name": "python3"
  },
  "language_info": {
   "codemirror_mode": {
    "name": "ipython",
    "version": 3
   },
   "file_extension": ".py",
   "mimetype": "text/x-python",
   "name": "python",
   "nbconvert_exporter": "python",
   "pygments_lexer": "ipython3",
   "version": "3.9.12"
  }
 },
 "nbformat": 4,
 "nbformat_minor": 4
}
